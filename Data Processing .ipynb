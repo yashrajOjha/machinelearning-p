{
 "cells": [
  {
   "cell_type": "code",
   "execution_count": 1,
   "id": "586106c6",
   "metadata": {},
   "outputs": [],
   "source": [
    "import pandas as pd #process datasets\n",
    "import numpy as np #used for scientific formulae\n",
    "import matplotlib.pyplot as plt"
   ]
  },
  {
   "cell_type": "code",
   "execution_count": 2,
   "id": "55ba0a43",
   "metadata": {},
   "outputs": [],
   "source": [
    "#creating variables for accessing datasets file\n",
    "#this dataset varible is a data frame\n",
    "dataset = pd.read_csv('Data.csv')\n",
    "#any data has features(variables which has info which is used to predict) \n",
    "#and labels which is a dependent variable\n",
    "#first 3 columns in our data set is features stored in x, last column is labels stored in y\n",
    "x = dataset.iloc[:,:-1].values \n",
    "#this creates a matrix of features and labels\n",
    "#first it is rows, after comma it is columns\n",
    "#iloc locates indexes, it will get indexes of columns we want to extract and put into x \n",
    "#':' is for range, without anything after or before it, everything is selected\n",
    "#:-1 selecting all the columns excluding last one (labels)\n",
    "y = dataset.iloc[:,-1].values\n",
    "#y has all rows of last column"
   ]
  },
  {
   "cell_type": "code",
   "execution_count": 3,
   "id": "61f72075",
   "metadata": {},
   "outputs": [
    {
     "name": "stdout",
     "output_type": "stream",
     "text": [
      "[['France' 44.0 72000.0]\n",
      " ['Spain' 27.0 48000.0]\n",
      " ['Germany' 30.0 54000.0]\n",
      " ['Spain' 38.0 61000.0]\n",
      " ['Germany' 40.0 nan]\n",
      " ['France' 35.0 58000.0]\n",
      " ['Spain' nan 52000.0]\n",
      " ['France' 48.0 79000.0]\n",
      " ['Germany' 50.0 83000.0]\n",
      " ['France' 37.0 67000.0]]\n"
     ]
    }
   ],
   "source": [
    "print(x)"
   ]
  },
  {
   "cell_type": "code",
   "execution_count": 4,
   "id": "227f3a63",
   "metadata": {},
   "outputs": [
    {
     "name": "stdout",
     "output_type": "stream",
     "text": [
      "['No' 'Yes' 'No' 'No' 'Yes' 'Yes' 'No' 'Yes' 'No' 'Yes']\n"
     ]
    }
   ],
   "source": [
    "print(y)"
   ]
  },
  {
   "cell_type": "code",
   "execution_count": 5,
   "id": "b5c1f6ff",
   "metadata": {},
   "outputs": [],
   "source": [
    "#missing data, replacing missing salary by average of all the salaries\n",
    "#using scikit learn\n",
    "from sklearn.impute import SimpleImputer\n",
    "imputer = SimpleImputer(missing_values=np.nan, strategy='mean')\n",
    "#we can replace the missing value by anything\n",
    "#missing_value is to specify what value we will replace, which is nan\n",
    "#second argument is what it will be replaced with\n",
    "#fit will connect and transform will replace\n",
    "imputer.fit(x[:,1:3])\n",
    "#only passing columns that are numeric and so :,1:, first column is string\n",
    "x[:,1:3]=imputer.transform(x[:,1:3])\n",
    "#transforms returns the two columns with replacements, which will replace the original matrix values"
   ]
  },
  {
   "cell_type": "code",
   "execution_count": 7,
   "id": "48e11ecc",
   "metadata": {},
   "outputs": [
    {
     "name": "stdout",
     "output_type": "stream",
     "text": [
      "[['France' 44.0 72000.0]\n",
      " ['Spain' 27.0 48000.0]\n",
      " ['Germany' 30.0 54000.0]\n",
      " ['Spain' 38.0 61000.0]\n",
      " ['Germany' 40.0 63777.77777777778]\n",
      " ['France' 35.0 58000.0]\n",
      " ['Spain' 38.77777777777778 52000.0]\n",
      " ['France' 48.0 79000.0]\n",
      " ['Germany' 50.0 83000.0]\n",
      " ['France' 37.0 67000.0]]\n"
     ]
    }
   ],
   "source": [
    "print(x)"
   ]
  },
  {
   "cell_type": "code",
   "execution_count": null,
   "id": "dd4e87b0",
   "metadata": {},
   "outputs": [],
   "source": []
  }
 ],
 "metadata": {
  "kernelspec": {
   "display_name": "Python 3 (ipykernel)",
   "language": "python",
   "name": "python3"
  },
  "language_info": {
   "codemirror_mode": {
    "name": "ipython",
    "version": 3
   },
   "file_extension": ".py",
   "mimetype": "text/x-python",
   "name": "python",
   "nbconvert_exporter": "python",
   "pygments_lexer": "ipython3",
   "version": "3.8.11"
  }
 },
 "nbformat": 4,
 "nbformat_minor": 5
}
